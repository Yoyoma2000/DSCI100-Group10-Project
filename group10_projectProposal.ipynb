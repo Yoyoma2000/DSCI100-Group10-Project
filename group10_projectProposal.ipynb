{
 "cells": [
  {
   "cell_type": "markdown",
   "id": "94a04230-4f89-43d5-b70d-4813af4e604d",
   "metadata": {},
   "source": [
    "# Group 10: Title \n",
    "\n",
    "### Background information:\n",
    "    The ATP (Association of Tennis Professionals) Tour is a worldwide tennis tour for men’s professional tennis organized annually by the ATP since 1990. The tour is divided into several tiers of tournaments, with higher tiers offering more ranking points. The PIF ATP Rankings is a merit-based method used by the ATP to rank players, determine entry qualification, and organize tournament seeding. Points are awarded based on the stage of the tournament reached and the tier. The rankings are updated weekly and rewarded points are dropped 52 weeks after being awarded, with some exceptions.\n",
    "\n",
    "\n",
    "### Our research question:\n",
    "    We plan to predict the best ranking of players based on various predictors. What is a player’s predicted best rank?\n",
    "\n",
    "### The dataset:\n",
    "    We will be using a data set containing player stats for the top 500 ATP players from 2017-2019. The dataset contains 37 variables, including both quantitative and qualitative values. \n",
    "\n",
    "\n"
   ]
  },
  {
   "cell_type": "markdown",
   "id": "561504e5-4dd2-4402-a0e1-0c319b9339e1",
   "metadata": {},
   "source": [
    "## Preliminary Exploratory Data Analysis"
   ]
  },
  {
   "cell_type": "code",
   "execution_count": 1,
   "id": "60cf43d9-379f-4663-ba7e-59439cffeefd",
   "metadata": {},
   "outputs": [
    {
     "name": "stderr",
     "output_type": "stream",
     "text": [
      "\n",
      "Attaching package: ‘dplyr’\n",
      "\n",
      "\n",
      "The following objects are masked from ‘package:stats’:\n",
      "\n",
      "    filter, lag\n",
      "\n",
      "\n",
      "The following objects are masked from ‘package:base’:\n",
      "\n",
      "    intersect, setdiff, setequal, union\n",
      "\n",
      "\n",
      "── \u001b[1mAttaching core tidyverse packages\u001b[22m ──────────────────────── tidyverse 2.0.0 ──\n",
      "\u001b[32m✔\u001b[39m \u001b[34mforcats  \u001b[39m 1.0.0     \u001b[32m✔\u001b[39m \u001b[34mreadr    \u001b[39m 2.1.4\n",
      "\u001b[32m✔\u001b[39m \u001b[34mggplot2  \u001b[39m 3.4.4     \u001b[32m✔\u001b[39m \u001b[34mstringr  \u001b[39m 1.5.0\n",
      "\u001b[32m✔\u001b[39m \u001b[34mlubridate\u001b[39m 1.9.3     \u001b[32m✔\u001b[39m \u001b[34mtibble   \u001b[39m 3.2.1\n",
      "\u001b[32m✔\u001b[39m \u001b[34mpurrr    \u001b[39m 1.0.2     \u001b[32m✔\u001b[39m \u001b[34mtidyr    \u001b[39m 1.3.0\n",
      "── \u001b[1mConflicts\u001b[22m ────────────────────────────────────────── tidyverse_conflicts() ──\n",
      "\u001b[31m✖\u001b[39m \u001b[34mdplyr\u001b[39m::\u001b[32mfilter()\u001b[39m masks \u001b[34mstats\u001b[39m::filter()\n",
      "\u001b[31m✖\u001b[39m \u001b[34mdplyr\u001b[39m::\u001b[32mlag()\u001b[39m    masks \u001b[34mstats\u001b[39m::lag()\n",
      "\u001b[36mℹ\u001b[39m Use the conflicted package (\u001b[3m\u001b[34m<http://conflicted.r-lib.org/>\u001b[39m\u001b[23m) to force all conflicts to become errors\n",
      "\n",
      "Attaching package: ‘rvest’\n",
      "\n",
      "\n",
      "The following object is masked from ‘package:readr’:\n",
      "\n",
      "    guess_encoding\n",
      "\n",
      "\n",
      "── \u001b[1mAttaching packages\u001b[22m ────────────────────────────────────── tidymodels 1.1.1 ──\n",
      "\n",
      "\u001b[32m✔\u001b[39m \u001b[34mbroom       \u001b[39m 1.0.5     \u001b[32m✔\u001b[39m \u001b[34mrsample     \u001b[39m 1.2.0\n",
      "\u001b[32m✔\u001b[39m \u001b[34mdials       \u001b[39m 1.2.0     \u001b[32m✔\u001b[39m \u001b[34mtune        \u001b[39m 1.1.2\n",
      "\u001b[32m✔\u001b[39m \u001b[34minfer       \u001b[39m 1.0.5     \u001b[32m✔\u001b[39m \u001b[34mworkflows   \u001b[39m 1.1.3\n",
      "\u001b[32m✔\u001b[39m \u001b[34mmodeldata   \u001b[39m 1.2.0     \u001b[32m✔\u001b[39m \u001b[34mworkflowsets\u001b[39m 1.0.1\n",
      "\u001b[32m✔\u001b[39m \u001b[34mparsnip     \u001b[39m 1.1.1     \u001b[32m✔\u001b[39m \u001b[34myardstick   \u001b[39m 1.2.0\n",
      "\u001b[32m✔\u001b[39m \u001b[34mrecipes     \u001b[39m 1.0.8     \n",
      "\n",
      "── \u001b[1mConflicts\u001b[22m ───────────────────────────────────────── tidymodels_conflicts() ──\n",
      "\u001b[31m✖\u001b[39m \u001b[34mscales\u001b[39m::\u001b[32mdiscard()\u001b[39m masks \u001b[34mpurrr\u001b[39m::discard()\n",
      "\u001b[31m✖\u001b[39m \u001b[34mdplyr\u001b[39m::\u001b[32mfilter()\u001b[39m   masks \u001b[34mstats\u001b[39m::filter()\n",
      "\u001b[31m✖\u001b[39m \u001b[34mrecipes\u001b[39m::\u001b[32mfixed()\u001b[39m  masks \u001b[34mstringr\u001b[39m::fixed()\n",
      "\u001b[31m✖\u001b[39m \u001b[34mdplyr\u001b[39m::\u001b[32mlag()\u001b[39m      masks \u001b[34mstats\u001b[39m::lag()\n",
      "\u001b[31m✖\u001b[39m \u001b[34myardstick\u001b[39m::\u001b[32mspec()\u001b[39m masks \u001b[34mreadr\u001b[39m::spec()\n",
      "\u001b[31m✖\u001b[39m \u001b[34mrecipes\u001b[39m::\u001b[32mstep()\u001b[39m   masks \u001b[34mstats\u001b[39m::step()\n",
      "\u001b[34m•\u001b[39m Learn how to get started at \u001b[32mhttps://www.tidymodels.org/start/\u001b[39m\n",
      "\n"
     ]
    }
   ],
   "source": [
    "# Retrieving nessesary packages\n",
    "library(dplyr)\n",
    "library(tidyverse)\n",
    "library(rvest)\n",
    "library(tidymodels)"
   ]
  },
  {
   "cell_type": "code",
   "execution_count": 27,
   "id": "5a6600ab-a027-4ad2-8a49-6b40d97c4e91",
   "metadata": {},
   "outputs": [
    {
     "ename": "ERROR",
     "evalue": "Error in parse(text = x, srcfile = src): <text>:11:0: unexpected end of input\n9: \n10: processed_player_data =\n   ^\n",
     "output_type": "error",
     "traceback": [
      "Error in parse(text = x, srcfile = src): <text>:11:0: unexpected end of input\n9: \n10: processed_player_data =\n   ^\nTraceback:\n"
     ]
    }
   ],
   "source": [
    "# Reading the data file\n",
    "url = \"https://drive.google.com/uc?export=download&id=1_MECmUXZuuILYeEOfonSGqodW6qVdhsS\"\n",
    "player_data = read_csv(url)\n",
    "\n",
    "# Cleaning the data and getting what we need\n",
    "processed_player_data = player_data |>\n",
    "                        separate(Age, c(\"Age\", \"Birth date\"), sep = \" \") |>\n",
    "                        separate(current_rank, c(\"Current Rank\", \"Current Rank (Other)\"), sep = \" \")\n",
    "\n",
    "processed_player_data ="
   ]
  },
  {
   "cell_type": "code",
   "execution_count": null,
   "id": "f3cf7745-6bf6-4717-bf3d-ba1ca1f3bfa2",
   "metadata": {},
   "outputs": [],
   "source": [
    "# Summary for data\n",
    "data_summary = data\n",
    "\n",
    "data_summary"
   ]
  },
  {
   "cell_type": "code",
   "execution_count": null,
   "id": "9912746a-d973-43fe-bf3f-347fa383b875",
   "metadata": {},
   "outputs": [],
   "source": [
    "# Visualization for data\n",
    "options(repr.plot.width=20, repr.plot.height=20)\n",
    "\n",
    "data_plot = data |>\n",
    "            ggplot(aes(x=..,y=..)) +\n",
    "            geom_point() +\n",
    "            xlab(\"x\") +\n",
    "            ylab(\"y\") +\n",
    "            ggTitle(\"x vs y\") +\n",
    "            theme(text = element_text(size=20))\n",
    "\n",
    "data_plot"
   ]
  },
  {
   "cell_type": "markdown",
   "id": "74d23b9e-e6c0-454e-b89b-3807220270da",
   "metadata": {},
   "source": [
    "## Methods\n",
    "\n",
    "### Relevant variables:\n",
    "- Predicted Variable: Best Rank\n",
    "  \n",
    "Predictors:\n",
    "- Age\n",
    "- Current Rank\n",
    "- Height\n",
    "- Year Turned pro\n",
    "- Current ELO Rank\n",
    "- Best ELO Rank\n",
    "- Peak ELO Rating\n",
    "- Weight\n",
    "- Plays (Left-handed or Right-handed)\n",
    "- Backhand (Two-Handed or One-Handed)\n",
    "- Seasons Played\n",
    "- Country\n",
    "\n",
    "\n",
    "### Outlined procedure:\n",
    "1. one\n",
    "2. two\n",
    "3. three\n",
    "4. four\n",
    "5. five\n",
    "\n",
    "### Visualization:\n",
    "We plan to visualize the accuracy vs \n"
   ]
  },
  {
   "cell_type": "markdown",
   "id": "1b7b6b78-bed9-4605-85f6-dbfa61138e09",
   "metadata": {},
   "source": [
    "## Expected Outcomes and Significance\n",
    "\n",
    "### Expected findings:\n",
    "Lorem ipsum dolor sit amet, consectetur adipiscing elit. Nam in sagittis velit. Pellentesque eget pretium ipsum. Proin sed dui neque. Nulla venenatis enim sit amet ipsum consequat, placerat euismod odio mattis. Nunc sed lobortis magna, sed ultricies justo. Etiam aliquet dictum metus non lobortis. Aenean sed suscipit arcu. Sed nunc tellus, condimentum id facilisis elementum, egestas ut libero. Donec sit amet elementum enim, eu luctus mi.v\n",
    "\n",
    "### Relevancy of findings:\n",
    "Lorem ipsum dolor sit amet, consectetur adipiscing elit. Nam in sagittis velit. Pellentesque eget pretium ipsum. Proin sed dui neque. Nulla venenatis enim sit amet ipsum consequat, placerat euismod odio mattis. Nunc sed lobortis magna, sed ultricies justo. Etiam aliquet dictum metus non lobortis. Aenean sed suscipit arcu. Sed nunc tellus, condimentum id facilisis elementum, egestas ut libero. Donec sit amet elementum enim, eu luctus mi.v\n",
    "\n",
    "### Future studies:\n",
    "Lorem ipsum dolor sit amet, consectetur adipiscing elit. Nam in sagittis velit. Pellentesque eget pretium ipsum. Proin sed dui neque. Nulla venenatis enim sit amet ipsum consequat, placerat euismod odio mattis. Nunc sed lobortis magna, sed ultricies justo. Etiam aliquet dictum metus non lobortis. Aenean sed suscipit arcu. Sed nunc tellus, condimentum id facilisis elementum, egestas ut libero. Donec sit amet elementum enim, eu luctus mi.v"
   ]
  }
 ],
 "metadata": {
  "kernelspec": {
   "display_name": "R",
   "language": "R",
   "name": "ir"
  },
  "language_info": {
   "codemirror_mode": "r",
   "file_extension": ".r",
   "mimetype": "text/x-r-source",
   "name": "R",
   "pygments_lexer": "r",
   "version": "4.3.1"
  }
 },
 "nbformat": 4,
 "nbformat_minor": 5
}
