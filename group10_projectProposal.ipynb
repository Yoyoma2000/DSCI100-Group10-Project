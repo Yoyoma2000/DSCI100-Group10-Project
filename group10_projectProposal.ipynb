{
 "cells": [
  {
   "cell_type": "markdown",
   "id": "94a04230-4f89-43d5-b70d-4813af4e604d",
   "metadata": {},
   "source": [
    "# Group 10: Title \n",
    "\n",
    "### Background information:\n",
    "Lorem ipsum dolor sit amet, consectetur adipiscing elit. Nam in sagittis velit. Pellentesque eget pretium ipsum. Proin sed dui neque. Nulla venenatis enim sit amet ipsum consequat, placerat euismod odio mattis. Nunc sed lobortis magna, sed ultricies justo. Etiam aliquet dictum metus non lobortis. Aenean sed suscipit arcu. Sed nunc tellus, condimentum id facilisis elementum, egestas ut libero. Donec sit amet elementum enim, eu luctus mi.v\n",
    "\n",
    "### Our research question:\n",
    "Lorem ipsum dolor sit amet, consectetur adipiscing elit. Donec et risus pulvinar, viverra neque at, interdum tortor.\n",
    "\n",
    "### The dataset:\n",
    "Lorem ipsum dolor sit amet, consectetur adipiscing elit. Nam in sagittis velit. Pellentesque eget pretium ipsum. Proin sed dui neque. Nulla venenatis enim sit amet ipsum consequat, placerat euismod odio mattis. Nunc sed lobortis magna, sed ultricies justo. Etiam aliquet dictum metus non lobortis. Aenean sed suscipit arcu. Sed nunc tellus, condimentum id facilisis elementum, egestas ut libero. Donec sit amet elementum enim, eu luctus mi.v\n",
    "\n"
   ]
  },
  {
   "cell_type": "markdown",
   "id": "561504e5-4dd2-4402-a0e1-0c319b9339e1",
   "metadata": {},
   "source": [
    "## Preliminary Exploratory Data Analysis\n",
    "\n",
    "What we plan to summarize:\n",
    "\n",
    "What we plan to plot:"
   ]
  },
  {
   "cell_type": "code",
   "execution_count": 1,
   "id": "60cf43d9-379f-4663-ba7e-59439cffeefd",
   "metadata": {},
   "outputs": [
    {
     "name": "stderr",
     "output_type": "stream",
     "text": [
      "\n",
      "Attaching package: ‘dplyr’\n",
      "\n",
      "\n",
      "The following objects are masked from ‘package:stats’:\n",
      "\n",
      "    filter, lag\n",
      "\n",
      "\n",
      "The following objects are masked from ‘package:base’:\n",
      "\n",
      "    intersect, setdiff, setequal, union\n",
      "\n",
      "\n",
      "── \u001b[1mAttaching core tidyverse packages\u001b[22m ──────────────────────── tidyverse 2.0.0 ──\n",
      "\u001b[32m✔\u001b[39m \u001b[34mforcats  \u001b[39m 1.0.0     \u001b[32m✔\u001b[39m \u001b[34mreadr    \u001b[39m 2.1.4\n",
      "\u001b[32m✔\u001b[39m \u001b[34mggplot2  \u001b[39m 3.4.4     \u001b[32m✔\u001b[39m \u001b[34mstringr  \u001b[39m 1.5.0\n",
      "\u001b[32m✔\u001b[39m \u001b[34mlubridate\u001b[39m 1.9.3     \u001b[32m✔\u001b[39m \u001b[34mtibble   \u001b[39m 3.2.1\n",
      "\u001b[32m✔\u001b[39m \u001b[34mpurrr    \u001b[39m 1.0.2     \u001b[32m✔\u001b[39m \u001b[34mtidyr    \u001b[39m 1.3.0\n",
      "── \u001b[1mConflicts\u001b[22m ────────────────────────────────────────── tidyverse_conflicts() ──\n",
      "\u001b[31m✖\u001b[39m \u001b[34mdplyr\u001b[39m::\u001b[32mfilter()\u001b[39m masks \u001b[34mstats\u001b[39m::filter()\n",
      "\u001b[31m✖\u001b[39m \u001b[34mdplyr\u001b[39m::\u001b[32mlag()\u001b[39m    masks \u001b[34mstats\u001b[39m::lag()\n",
      "\u001b[36mℹ\u001b[39m Use the conflicted package (\u001b[3m\u001b[34m<http://conflicted.r-lib.org/>\u001b[39m\u001b[23m) to force all conflicts to become errors\n",
      "\n",
      "Attaching package: ‘rvest’\n",
      "\n",
      "\n",
      "The following object is masked from ‘package:readr’:\n",
      "\n",
      "    guess_encoding\n",
      "\n",
      "\n",
      "── \u001b[1mAttaching packages\u001b[22m ────────────────────────────────────── tidymodels 1.1.1 ──\n",
      "\n",
      "\u001b[32m✔\u001b[39m \u001b[34mbroom       \u001b[39m 1.0.5     \u001b[32m✔\u001b[39m \u001b[34mrsample     \u001b[39m 1.2.0\n",
      "\u001b[32m✔\u001b[39m \u001b[34mdials       \u001b[39m 1.2.0     \u001b[32m✔\u001b[39m \u001b[34mtune        \u001b[39m 1.1.2\n",
      "\u001b[32m✔\u001b[39m \u001b[34minfer       \u001b[39m 1.0.5     \u001b[32m✔\u001b[39m \u001b[34mworkflows   \u001b[39m 1.1.3\n",
      "\u001b[32m✔\u001b[39m \u001b[34mmodeldata   \u001b[39m 1.2.0     \u001b[32m✔\u001b[39m \u001b[34mworkflowsets\u001b[39m 1.0.1\n",
      "\u001b[32m✔\u001b[39m \u001b[34mparsnip     \u001b[39m 1.1.1     \u001b[32m✔\u001b[39m \u001b[34myardstick   \u001b[39m 1.2.0\n",
      "\u001b[32m✔\u001b[39m \u001b[34mrecipes     \u001b[39m 1.0.8     \n",
      "\n",
      "── \u001b[1mConflicts\u001b[22m ───────────────────────────────────────── tidymodels_conflicts() ──\n",
      "\u001b[31m✖\u001b[39m \u001b[34mscales\u001b[39m::\u001b[32mdiscard()\u001b[39m masks \u001b[34mpurrr\u001b[39m::discard()\n",
      "\u001b[31m✖\u001b[39m \u001b[34mdplyr\u001b[39m::\u001b[32mfilter()\u001b[39m   masks \u001b[34mstats\u001b[39m::filter()\n",
      "\u001b[31m✖\u001b[39m \u001b[34mrecipes\u001b[39m::\u001b[32mfixed()\u001b[39m  masks \u001b[34mstringr\u001b[39m::fixed()\n",
      "\u001b[31m✖\u001b[39m \u001b[34mdplyr\u001b[39m::\u001b[32mlag()\u001b[39m      masks \u001b[34mstats\u001b[39m::lag()\n",
      "\u001b[31m✖\u001b[39m \u001b[34myardstick\u001b[39m::\u001b[32mspec()\u001b[39m masks \u001b[34mreadr\u001b[39m::spec()\n",
      "\u001b[31m✖\u001b[39m \u001b[34mrecipes\u001b[39m::\u001b[32mstep()\u001b[39m   masks \u001b[34mstats\u001b[39m::step()\n",
      "\u001b[34m•\u001b[39m Learn how to get started at \u001b[32mhttps://www.tidymodels.org/start/\u001b[39m\n",
      "\n"
     ]
    }
   ],
   "source": [
    "# Retrieving nessesary packages\n",
    "library(dplyr)\n",
    "library(tidyverse)\n",
    "library(rvest)\n",
    "library(tidymodels)"
   ]
  },
  {
   "cell_type": "code",
   "execution_count": 23,
   "id": "5a6600ab-a027-4ad2-8a49-6b40d97c4e91",
   "metadata": {},
   "outputs": [
    {
     "name": "stderr",
     "output_type": "stream",
     "text": [
      "\u001b[1m\u001b[22mNew names:\n",
      "\u001b[36m•\u001b[39m `` -> `...1`\n",
      "\u001b[1mRows: \u001b[22m\u001b[34m500\u001b[39m \u001b[1mColumns: \u001b[22m\u001b[34m38\u001b[39m\n",
      "\u001b[36m──\u001b[39m \u001b[1mColumn specification\u001b[22m \u001b[36m────────────────────────────────────────────────────────\u001b[39m\n",
      "\u001b[1mDelimiter:\u001b[22m \",\"\n",
      "\u001b[31mchr\u001b[39m (25): Age, Country, Plays, Wikipedia, Current Rank, Best Rank, Name, Bac...\n",
      "\u001b[32mdbl\u001b[39m (13): ...1, Turned Pro, Seasons, Titles, Best Season, Retired, Masters, ...\n",
      "\n",
      "\u001b[36mℹ\u001b[39m Use `spec()` to retrieve the full column specification for this data.\n",
      "\u001b[36mℹ\u001b[39m Specify the column types or set `show_col_types = FALSE` to quiet this message.\n"
     ]
    },
    {
     "ename": "ERROR",
     "evalue": "Error in FUN(left, right): operations are possible only for numeric, logical or complex types\n",
     "output_type": "error",
     "traceback": [
      "Error in FUN(left, right): operations are possible only for numeric, logical or complex types\nTraceback:\n",
      "1. Ops.data.frame(separate(player_data, Age, c(\"Age\", \"Birth date\"), \n .     sep = \" \"), `?`(processed_player_data))",
      "2. eval(f)",
      "3. eval(f)"
     ]
    }
   ],
   "source": [
    "# Reading the data file\n",
    "url = \"https://drive.google.com/uc?export=download&id=1_MECmUXZuuILYeEOfonSGqodW6qVdhsS\"\n",
    "\n",
    "player_data = read_csv(url)\n",
    "\n",
    "processed_player_data = player_data |>\n",
    "                        separate(Age, c(\"Age\", \"Birth date\"), sep = \" \") |>\n",
    "                        seperate(Current_Rank, c())\n",
    "\n",
    "processed_player_data"
   ]
  },
  {
   "cell_type": "code",
   "execution_count": null,
   "id": "f3cf7745-6bf6-4717-bf3d-ba1ca1f3bfa2",
   "metadata": {},
   "outputs": [],
   "source": [
    "# Summary for data\n",
    "data_summary = data\n",
    "\n",
    "data_summary"
   ]
  },
  {
   "cell_type": "code",
   "execution_count": null,
   "id": "9912746a-d973-43fe-bf3f-347fa383b875",
   "metadata": {},
   "outputs": [],
   "source": [
    "# Visualization for data\n",
    "options(repr.plot.width=20, repr.plot.height=20)\n",
    "\n",
    "data_plot = data |>\n",
    "            ggplot(aes(x=..,y=..)) +\n",
    "            geom_point() +\n",
    "            xlab(\"x\") +\n",
    "            ylab(\"y\") +\n",
    "            ggTitle(\"x vs y\") +\n",
    "            theme(text = element_text(size=20))\n",
    "\n",
    "data_plot"
   ]
  },
  {
   "cell_type": "markdown",
   "id": "74d23b9e-e6c0-454e-b89b-3807220270da",
   "metadata": {},
   "source": [
    "## Methods\n",
    "\n",
    "### Relevant variables:\n",
    "- X\n",
    "- Y\n",
    "\n",
    "### Outlined procedure:\n",
    "1. one\n",
    "2. two\n",
    "3. three\n",
    "4. four\n",
    "5. five\n",
    "\n",
    "### Visualization:\n",
    "Lorem ipsum dolor sit amet, consectetur adipiscing elit. Nam in sagittis velit. Pellentesque eget pretium ipsum. Proin sed dui neque. Nulla venenatis enim sit amet ipsum consequat, placerat euismod odio mattis. Nunc sed lobortis magna, sed ultricies justo. Etiam aliquet dictum metus non lobortis. Aenean sed suscipit arcu. Sed nunc tellus, condimentum id facilisis elementum, egestas ut libero. Donec sit amet elementum enim, eu luctus mi.v"
   ]
  },
  {
   "cell_type": "markdown",
   "id": "1b7b6b78-bed9-4605-85f6-dbfa61138e09",
   "metadata": {},
   "source": [
    "## Expected Outcomes and Significance\n",
    "\n",
    "### Expected findings:\n",
    "Lorem ipsum dolor sit amet, consectetur adipiscing elit. Nam in sagittis velit. Pellentesque eget pretium ipsum. Proin sed dui neque. Nulla venenatis enim sit amet ipsum consequat, placerat euismod odio mattis. Nunc sed lobortis magna, sed ultricies justo. Etiam aliquet dictum metus non lobortis. Aenean sed suscipit arcu. Sed nunc tellus, condimentum id facilisis elementum, egestas ut libero. Donec sit amet elementum enim, eu luctus mi.v\n",
    "\n",
    "### Relevancy of findings:\n",
    "Lorem ipsum dolor sit amet, consectetur adipiscing elit. Nam in sagittis velit. Pellentesque eget pretium ipsum. Proin sed dui neque. Nulla venenatis enim sit amet ipsum consequat, placerat euismod odio mattis. Nunc sed lobortis magna, sed ultricies justo. Etiam aliquet dictum metus non lobortis. Aenean sed suscipit arcu. Sed nunc tellus, condimentum id facilisis elementum, egestas ut libero. Donec sit amet elementum enim, eu luctus mi.v\n",
    "\n",
    "### Future studies:\n",
    "Lorem ipsum dolor sit amet, consectetur adipiscing elit. Nam in sagittis velit. Pellentesque eget pretium ipsum. Proin sed dui neque. Nulla venenatis enim sit amet ipsum consequat, placerat euismod odio mattis. Nunc sed lobortis magna, sed ultricies justo. Etiam aliquet dictum metus non lobortis. Aenean sed suscipit arcu. Sed nunc tellus, condimentum id facilisis elementum, egestas ut libero. Donec sit amet elementum enim, eu luctus mi.v"
   ]
  }
 ],
 "metadata": {
  "kernelspec": {
   "display_name": "R",
   "language": "R",
   "name": "ir"
  },
  "language_info": {
   "codemirror_mode": "r",
   "file_extension": ".r",
   "mimetype": "text/x-r-source",
   "name": "R",
   "pygments_lexer": "r",
   "version": "4.3.1"
  }
 },
 "nbformat": 4,
 "nbformat_minor": 5
}
