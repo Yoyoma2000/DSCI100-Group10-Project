{
 "cells": [
  {
   "cell_type": "markdown",
   "id": "94a04230-4f89-43d5-b70d-4813af4e604d",
   "metadata": {},
   "source": [
    "# Group 10: Title \n",
    "\n",
    "### Background information:\n",
    "Lorem ipsum dolor sit amet, consectetur adipiscing elit. Nam in sagittis velit. Pellentesque eget pretium ipsum. Proin sed dui neque. Nulla venenatis enim sit amet ipsum consequat, placerat euismod odio mattis. Nunc sed lobortis magna, sed ultricies justo. Etiam aliquet dictum metus non lobortis. Aenean sed suscipit arcu. Sed nunc tellus, condimentum id facilisis elementum, egestas ut libero. Donec sit amet elementum enim, eu luctus mi.v\n",
    "\n",
    "### Our research question:\n",
    "Lorem ipsum dolor sit amet, consectetur adipiscing elit. Donec et risus pulvinar, viverra neque at, interdum tortor.\n",
    "\n",
    "### The dataset:\n",
    "Lorem ipsum dolor sit amet, consectetur adipiscing elit. Nam in sagittis velit. Pellentesque eget pretium ipsum. Proin sed dui neque. Nulla venenatis enim sit amet ipsum consequat, placerat euismod odio mattis. Nunc sed lobortis magna, sed ultricies justo. Etiam aliquet dictum metus non lobortis. Aenean sed suscipit arcu. Sed nunc tellus, condimentum id facilisis elementum, egestas ut libero. Donec sit amet elementum enim, eu luctus mi.v\n",
    "\n"
   ]
  },
  {
   "cell_type": "markdown",
   "id": "561504e5-4dd2-4402-a0e1-0c319b9339e1",
   "metadata": {},
   "source": [
    "## Preliminary Exploratory Data Analysis\n",
    "\n",
    "What we plan to summarize:\n",
    "\n",
    "What we plan to plot:"
   ]
  },
  {
   "cell_type": "code",
   "execution_count": null,
   "id": "60cf43d9-379f-4663-ba7e-59439cffeefd",
   "metadata": {},
   "outputs": [],
   "source": [
    "# Retrieving nessesary packages\n",
    "Library(dplyr)\n",
    "Library(tidyverse)"
   ]
  },
  {
   "cell_type": "code",
   "execution_count": 8,
   "id": "5a6600ab-a027-4ad2-8a49-6b40d97c4e91",
   "metadata": {},
   "outputs": [],
   "source": [
    "# Reading the data file\n",
    "data = read_csv(\"data/...\")"
   ]
  },
  {
   "cell_type": "code",
   "execution_count": null,
   "id": "f3cf7745-6bf6-4717-bf3d-ba1ca1f3bfa2",
   "metadata": {},
   "outputs": [],
   "source": [
    "# Summary for data\n",
    "data_summary = data\n",
    "\n",
    "data_summary"
   ]
  },
  {
   "cell_type": "code",
   "execution_count": null,
   "id": "9912746a-d973-43fe-bf3f-347fa383b875",
   "metadata": {},
   "outputs": [],
   "source": [
    "# Visualization for data\n",
    "options(repr.plot.width=20, repr.plot.height=20)\n",
    "\n",
    "data_plot = data |>\n",
    "            ggplot(aes(x=..,y=..)) +\n",
    "            geom_point() +\n",
    "            xlab(\"x\") +\n",
    "            ylab(\"y\") +\n",
    "            ggTitle(\"x vs y\") +\n",
    "            theme(text = element_text(size=20))\n",
    "\n",
    "data_plot"
   ]
  },
  {
   "cell_type": "markdown",
   "id": "74d23b9e-e6c0-454e-b89b-3807220270da",
   "metadata": {},
   "source": [
    "## Methods\n",
    "\n",
    "### Relevant variables:\n",
    "- X\n",
    "- Y\n",
    "\n",
    "### Outlined procedure:\n",
    "1. one\n",
    "2. two\n",
    "3. three\n",
    "4. four\n",
    "5. five\n",
    "\n",
    "### Visualization:\n",
    "Lorem ipsum dolor sit amet, consectetur adipiscing elit. Nam in sagittis velit. Pellentesque eget pretium ipsum. Proin sed dui neque. Nulla venenatis enim sit amet ipsum consequat, placerat euismod odio mattis. Nunc sed lobortis magna, sed ultricies justo. Etiam aliquet dictum metus non lobortis. Aenean sed suscipit arcu. Sed nunc tellus, condimentum id facilisis elementum, egestas ut libero. Donec sit amet elementum enim, eu luctus mi.v"
   ]
  },
  {
   "cell_type": "markdown",
   "id": "1b7b6b78-bed9-4605-85f6-dbfa61138e09",
   "metadata": {},
   "source": [
    "## Expected Outcomes and Significance\n",
    "\n",
    "### Expected findings:\n",
    "Lorem ipsum dolor sit amet, consectetur adipiscing elit. Nam in sagittis velit. Pellentesque eget pretium ipsum. Proin sed dui neque. Nulla venenatis enim sit amet ipsum consequat, placerat euismod odio mattis. Nunc sed lobortis magna, sed ultricies justo. Etiam aliquet dictum metus non lobortis. Aenean sed suscipit arcu. Sed nunc tellus, condimentum id facilisis elementum, egestas ut libero. Donec sit amet elementum enim, eu luctus mi.v\n",
    "\n",
    "### Relevancy of findings:\n",
    "Lorem ipsum dolor sit amet, consectetur adipiscing elit. Nam in sagittis velit. Pellentesque eget pretium ipsum. Proin sed dui neque. Nulla venenatis enim sit amet ipsum consequat, placerat euismod odio mattis. Nunc sed lobortis magna, sed ultricies justo. Etiam aliquet dictum metus non lobortis. Aenean sed suscipit arcu. Sed nunc tellus, condimentum id facilisis elementum, egestas ut libero. Donec sit amet elementum enim, eu luctus mi.v\n",
    "\n",
    "### Future studies:\n",
    "Lorem ipsum dolor sit amet, consectetur adipiscing elit. Nam in sagittis velit. Pellentesque eget pretium ipsum. Proin sed dui neque. Nulla venenatis enim sit amet ipsum consequat, placerat euismod odio mattis. Nunc sed lobortis magna, sed ultricies justo. Etiam aliquet dictum metus non lobortis. Aenean sed suscipit arcu. Sed nunc tellus, condimentum id facilisis elementum, egestas ut libero. Donec sit amet elementum enim, eu luctus mi.v"
   ]
  }
 ],
 "metadata": {
  "kernelspec": {
   "display_name": "R",
   "language": "R",
   "name": "ir"
  },
  "language_info": {
   "codemirror_mode": "r",
   "file_extension": ".r",
   "mimetype": "text/x-r-source",
   "name": "R",
   "pygments_lexer": "r",
   "version": "4.3.1"
  }
 },
 "nbformat": 4,
 "nbformat_minor": 5
}
